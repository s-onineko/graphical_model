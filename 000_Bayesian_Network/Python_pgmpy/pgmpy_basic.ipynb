{
 "cells": [
  {
   "cell_type": "code",
   "execution_count": null,
   "metadata": {},
   "outputs": [],
   "source": [
    "#!pip install pgmpy"
   ]
  },
  {
   "cell_type": "code",
   "execution_count": 64,
   "metadata": {},
   "outputs": [],
   "source": [
    "# 使用するパッケージ（ライブラリと関数）を定義\n",
    "#独立性の検定に使用\n",
    "from pgmpy.estimators import ConstraintBasedEstimator\n",
    "import pandas as pd"
   ]
  },
  {
   "cell_type": "code",
   "execution_count": 65,
   "metadata": {},
   "outputs": [],
   "source": [
    "df = pd.read_csv(\"test_data.csv\",encoding = \"cp932\")"
   ]
  },
  {
   "cell_type": "code",
   "execution_count": 63,
   "metadata": {},
   "outputs": [
    {
     "ename": "TypeError",
     "evalue": "'module' object is not callable",
     "output_type": "error",
     "traceback": [
      "\u001b[1;31m---------------------------------------------------------------------------\u001b[0m",
      "\u001b[1;31mTypeError\u001b[0m                                 Traceback (most recent call last)",
      "\u001b[1;32m<ipython-input-63-b603d4724893>\u001b[0m in \u001b[0;36m<module>\u001b[1;34m\u001b[0m\n\u001b[0;32m      4\u001b[0m \u001b[0mdata\u001b[0m \u001b[1;33m=\u001b[0m \u001b[0mpd\u001b[0m\u001b[1;33m.\u001b[0m\u001b[0mDataFrame\u001b[0m\u001b[1;33m(\u001b[0m\u001b[0mnp\u001b[0m\u001b[1;33m.\u001b[0m\u001b[0mrandom\u001b[0m\u001b[1;33m.\u001b[0m\u001b[0mrandint\u001b[0m\u001b[1;33m(\u001b[0m\u001b[1;36m0\u001b[0m\u001b[1;33m,\u001b[0m \u001b[1;36m2\u001b[0m\u001b[1;33m,\u001b[0m \u001b[0msize\u001b[0m\u001b[1;33m=\u001b[0m\u001b[1;33m(\u001b[0m\u001b[1;36m5000\u001b[0m\u001b[1;33m,\u001b[0m \u001b[1;36m5\u001b[0m\u001b[1;33m)\u001b[0m\u001b[1;33m)\u001b[0m\u001b[1;33m,\u001b[0m \u001b[0mcolumns\u001b[0m\u001b[1;33m=\u001b[0m\u001b[0mlist\u001b[0m\u001b[1;33m(\u001b[0m\u001b[1;34m'ABCDE'\u001b[0m\u001b[1;33m)\u001b[0m\u001b[1;33m)\u001b[0m\u001b[1;33m\u001b[0m\u001b[1;33m\u001b[0m\u001b[0m\n\u001b[0;32m      5\u001b[0m \u001b[0mdata\u001b[0m\u001b[1;33m[\u001b[0m\u001b[1;34m'F'\u001b[0m\u001b[1;33m]\u001b[0m \u001b[1;33m=\u001b[0m \u001b[0mdata\u001b[0m\u001b[1;33m[\u001b[0m\u001b[1;34m'A'\u001b[0m\u001b[1;33m]\u001b[0m \u001b[1;33m+\u001b[0m \u001b[0mdata\u001b[0m\u001b[1;33m[\u001b[0m\u001b[1;34m'B'\u001b[0m\u001b[1;33m]\u001b[0m \u001b[1;33m+\u001b[0m \u001b[0mdata\u001b[0m \u001b[1;33m[\u001b[0m\u001b[1;34m'C'\u001b[0m\u001b[1;33m]\u001b[0m\u001b[1;33m\u001b[0m\u001b[1;33m\u001b[0m\u001b[0m\n\u001b[1;32m----> 6\u001b[1;33m \u001b[0mest\u001b[0m \u001b[1;33m=\u001b[0m \u001b[0mConstraintBasedEstimator\u001b[0m\u001b[1;33m(\u001b[0m\u001b[0mdata\u001b[0m\u001b[1;33m)\u001b[0m\u001b[1;33m\u001b[0m\u001b[1;33m\u001b[0m\u001b[0m\n\u001b[0m\u001b[0;32m      7\u001b[0m \u001b[0mskel\u001b[0m\u001b[1;33m,\u001b[0m \u001b[0msep_sets\u001b[0m \u001b[1;33m=\u001b[0m \u001b[0mest\u001b[0m\u001b[1;33m.\u001b[0m\u001b[0mestimate_skeleton\u001b[0m\u001b[1;33m(\u001b[0m\u001b[1;33m)\u001b[0m\u001b[1;33m\u001b[0m\u001b[1;33m\u001b[0m\u001b[0m\n\u001b[0;32m      8\u001b[0m \u001b[0mskel\u001b[0m\u001b[1;33m.\u001b[0m\u001b[0medges\u001b[0m\u001b[1;33m(\u001b[0m\u001b[1;33m)\u001b[0m\u001b[1;33m\u001b[0m\u001b[1;33m\u001b[0m\u001b[0m\n",
      "\u001b[1;31mTypeError\u001b[0m: 'module' object is not callable"
     ]
    }
   ],
   "source": [
    "import pandas as pd\n",
    "import numpy as np\n",
    "from pgmpy.estimators import ConstraintBasedEstimator\n",
    "data = pd.DataFrame(np.random.randint(0, 2, size=(5000, 5)), columns=list('ABCDE'))\n",
    "data['F'] = data['A'] + data['B'] + data ['C']\n",
    "est = ConstraintBasedEstimator(data)\n",
    "skel, sep_sets = est.estimate_skeleton()\n",
    "skel.edges()\n",
    "# all independencies are unconditional:\n",
    "sep_sets\n",
    "data = pd.DataFrame(np.random.randint(0, 2, size=(5000, 3)), columns=list('XYZ'))\n",
    "data['X'] += data['Z']\n",
    "data['Y'] += data['Z']\n",
    "est = ConstraintBasedEstimator(data)\n",
    "skel, sep_sets = est.estimate_skeleton()\n",
    "skel.edges()\n",
    "# X, Y dependent, but conditionally independent given Z:\n",
    "sep_sets"
   ]
  },
  {
   "cell_type": "code",
   "execution_count": 52,
   "metadata": {},
   "outputs": [],
   "source": [
    "est = ConstraintBasedEstimator.ConstraintBasedEstimator(df)"
   ]
  },
  {
   "cell_type": "code",
   "execution_count": 57,
   "metadata": {},
   "outputs": [
    {
     "ename": "AttributeError",
     "evalue": "'ConstraintBasedEstimator' object has no attribute 'test_conditional_independence'",
     "output_type": "error",
     "traceback": [
      "\u001b[1;31m---------------------------------------------------------------------------\u001b[0m",
      "\u001b[1;31mAttributeError\u001b[0m                            Traceback (most recent call last)",
      "\u001b[1;32m<ipython-input-57-5342dc45d93c>\u001b[0m in \u001b[0;36m<module>\u001b[1;34m\u001b[0m\n\u001b[1;32m----> 1\u001b[1;33m \u001b[0mskel\u001b[0m\u001b[1;33m,\u001b[0m \u001b[0mseperating_sets\u001b[0m \u001b[1;33m=\u001b[0m \u001b[0mest\u001b[0m\u001b[1;33m.\u001b[0m\u001b[0mestimate_skeleton\u001b[0m\u001b[1;33m(\u001b[0m\u001b[0msignificance_level\u001b[0m\u001b[1;33m=\u001b[0m\u001b[1;36m0.01\u001b[0m\u001b[1;33m)\u001b[0m\u001b[1;33m\u001b[0m\u001b[1;33m\u001b[0m\u001b[0m\n\u001b[0m\u001b[0;32m      2\u001b[0m \u001b[0mprint\u001b[0m\u001b[1;33m(\u001b[0m\u001b[1;34m\"Undirected edges: \"\u001b[0m\u001b[1;33m,\u001b[0m \u001b[0mskel\u001b[0m\u001b[1;33m.\u001b[0m\u001b[0medges\u001b[0m\u001b[1;33m(\u001b[0m\u001b[1;33m)\u001b[0m\u001b[1;33m)\u001b[0m\u001b[1;33m\u001b[0m\u001b[1;33m\u001b[0m\u001b[0m\n",
      "\u001b[1;31mAttributeError\u001b[0m: 'ConstraintBasedEstimator' object has no attribute 'test_conditional_independence'"
     ]
    }
   ],
   "source": [
    "skel, seperating_sets = est.estimate_skeleton(significance_level=0.01)\n",
    "print(\"Undirected edges: \", skel.edges())"
   ]
  },
  {
   "cell_type": "code",
   "execution_count": 55,
   "metadata": {},
   "outputs": [
    {
     "ename": "NameError",
     "evalue": "name 'skel' is not defined",
     "output_type": "error",
     "traceback": [
      "\u001b[1;31m---------------------------------------------------------------------------\u001b[0m",
      "\u001b[1;31mNameError\u001b[0m                                 Traceback (most recent call last)",
      "\u001b[1;32m<ipython-input-55-5d83683fc0c0>\u001b[0m in \u001b[0;36m<module>\u001b[1;34m\u001b[0m\n\u001b[1;32m----> 1\u001b[1;33m \u001b[0mpdag\u001b[0m \u001b[1;33m=\u001b[0m \u001b[0mest\u001b[0m\u001b[1;33m.\u001b[0m\u001b[0mskeleton_to_pdag\u001b[0m\u001b[1;33m(\u001b[0m\u001b[0mskel\u001b[0m\u001b[1;33m,\u001b[0m \u001b[0mseperating_sets\u001b[0m\u001b[1;33m)\u001b[0m\u001b[1;33m\u001b[0m\u001b[1;33m\u001b[0m\u001b[0m\n\u001b[0m\u001b[0;32m      2\u001b[0m \u001b[0mprint\u001b[0m\u001b[1;33m(\u001b[0m\u001b[1;34m\"PDAG edges:       \"\u001b[0m\u001b[1;33m,\u001b[0m \u001b[0mpdag\u001b[0m\u001b[1;33m.\u001b[0m\u001b[0medges\u001b[0m\u001b[1;33m(\u001b[0m\u001b[1;33m)\u001b[0m\u001b[1;33m)\u001b[0m\u001b[1;33m\u001b[0m\u001b[1;33m\u001b[0m\u001b[0m\n\u001b[0;32m      3\u001b[0m \u001b[1;33m\u001b[0m\u001b[0m\n\u001b[0;32m      4\u001b[0m \u001b[0mmodel\u001b[0m \u001b[1;33m=\u001b[0m \u001b[0mest\u001b[0m\u001b[1;33m.\u001b[0m\u001b[0mpdag_to_dag\u001b[0m\u001b[1;33m(\u001b[0m\u001b[0mpdag\u001b[0m\u001b[1;33m)\u001b[0m\u001b[1;33m\u001b[0m\u001b[1;33m\u001b[0m\u001b[0m\n\u001b[0;32m      5\u001b[0m \u001b[0mprint\u001b[0m\u001b[1;33m(\u001b[0m\u001b[1;34m\"DAG edges:        \"\u001b[0m\u001b[1;33m,\u001b[0m \u001b[0mmodel\u001b[0m\u001b[1;33m.\u001b[0m\u001b[0medges\u001b[0m\u001b[1;33m(\u001b[0m\u001b[1;33m)\u001b[0m\u001b[1;33m)\u001b[0m\u001b[1;33m\u001b[0m\u001b[1;33m\u001b[0m\u001b[0m\n",
      "\u001b[1;31mNameError\u001b[0m: name 'skel' is not defined"
     ]
    }
   ],
   "source": [
    "pdag = est.skeleton_to_pdag(skel, seperating_sets)\n",
    "print(\"PDAG edges:       \", pdag.edges())\n",
    "\n",
    "model = est.pdag_to_dag(pdag)\n",
    "print(\"DAG edges:        \", model.edges())"
   ]
  },
  {
   "cell_type": "code",
   "execution_count": 42,
   "metadata": {},
   "outputs": [],
   "source": [
    "from pgmpy.factors.discrete import TabularCPD\n",
    "from pgmpy.models import BayesianModel\n",
    "\n",
    "# ベイジアンネットワークの構造\n",
    "model = BayesianModel([\n",
    "    # ('親ノード', '子ノード')\n",
    "    ('battery', 'gauge'),\n",
    "    ('fuel', 'gauge'),\n",
    "])\n",
    "\n",
    "battery_cpd = TabularCPD(\n",
    "    variable='battery',\n",
    "    variable_card=2,\n",
    "    # values[0]: empty, values[1]: full\n",
    "    values=[[.1], [.9]])\n",
    "\n",
    "fuel_cpd = TabularCPD(\n",
    "    variable='fuel',\n",
    "    variable_card=2,\n",
    "    values=[[.1], [.9]])\n",
    "\n",
    "gauge_cpd = TabularCPD(\n",
    "    variable='gauge',\n",
    "    variable_card=2,\n",
    "    values = [[.9, .8, .8, .2],\n",
    "             [.1, .2, .2, .8]],\n",
    "    evidence = ['battery', 'fuel'],\n",
    "    evidence_card=[2, 2]\n",
    ")\n",
    "\n",
    "model.add_cpds(battery_cpd, fuel_cpd, gauge_cpd)"
   ]
  },
  {
   "cell_type": "code",
   "execution_count": 43,
   "metadata": {},
   "outputs": [
    {
     "name": "stderr",
     "output_type": "stream",
     "text": [
      "Finding Elimination Order: :   0%|                                                               | 0/1 [00:00<?, ?it/s]\n",
      "  0%|                                                                                            | 0/1 [00:00<?, ?it/s]\u001b[A\n",
      "Eliminating: battery: 100%|█████████████████████████████████████████████████████████████| 1/1 [00:00<00:00, 333.33it/s]\u001b[A"
     ]
    },
    {
     "name": "stdout",
     "output_type": "stream",
     "text": [
      "0.2571428571428572\n"
     ]
    },
    {
     "name": "stderr",
     "output_type": "stream",
     "text": [
      "\n"
     ]
    }
   ],
   "source": [
    "from pgmpy.inference import VariableElimination\n",
    "\n",
    "model_infer = VariableElimination(model)\n",
    "fuel0_prob_given_gauge0 = model_infer.query(variables=['fuel'], evidence={'gauge': 0})\n",
    "print(fuel0_prob_given_gauge0.values[0])"
   ]
  },
  {
   "cell_type": "code",
   "execution_count": 44,
   "metadata": {},
   "outputs": [],
   "source": [
    "import pandas as pd\n",
    "df = pd.DataFrame()\n",
    "df['t'] = [1, 1, 1, 1, 0, 0, 1, 1, 1, 2, 0, 0, 1, 1, 1, 2, 2, 2, 2, 2] #3分類\n",
    "df['a'] = [2, 2, 2, 2, 1, 1, 1, 1, 2, 1, 1, 2, 0, 0, 0, 1, 1, 2, 2, 2] #3分類\n",
    "df['h'] = [0, 0, 0, 1, 0, 0, 1, 1, 1, 1, 0, 0, 0, 1, 1, 1, 1, 1, 1, 1] #2分類"
   ]
  },
  {
   "cell_type": "code",
   "execution_count": 45,
   "metadata": {},
   "outputs": [],
   "source": [
    "from pgmpy.models import BayesianModel\n",
    "model = BayesianModel([('t','h'),('a','h')])"
   ]
  },
  {
   "cell_type": "code",
   "execution_count": 46,
   "metadata": {},
   "outputs": [
    {
     "name": "stderr",
     "output_type": "stream",
     "text": [
      "Finding Elimination Order: : 100%|██████████████████████████████████████████████████████| 1/1 [06:37<00:00, 397.83s/it]"
     ]
    },
    {
     "name": "stdout",
     "output_type": "stream",
     "text": [
      "+------+-----+\n",
      "| t(0) | 0.2 |\n",
      "+------+-----+\n",
      "| t(1) | 0.5 |\n",
      "+------+-----+\n",
      "| t(2) | 0.3 |\n",
      "+------+-----+\n",
      "+------+------+\n",
      "| a(0) | 0.15 |\n",
      "+------+------+\n",
      "| a(1) | 0.4  |\n",
      "+------+------+\n",
      "| a(2) | 0.45 |\n",
      "+------+------+\n",
      "+------+------+--------------------+------+------+------+------+------+------+------+\n",
      "| a    | a(0) | a(0)               | a(0) | a(1) | a(1) | a(1) | a(2) | a(2) | a(2) |\n",
      "+------+------+--------------------+------+------+------+------+------+------+------+\n",
      "| t    | t(0) | t(1)               | t(2) | t(0) | t(1) | t(2) | t(0) | t(1) | t(2) |\n",
      "+------+------+--------------------+------+------+------+------+------+------+------+\n",
      "| h(0) | 0.5  | 0.3333333333333333 | 0.5  | 1.0  | 0.0  | 0.0  | 1.0  | 0.6  | 0.0  |\n",
      "+------+------+--------------------+------+------+------+------+------+------+------+\n",
      "| h(1) | 0.5  | 0.6666666666666666 | 0.5  | 0.0  | 1.0  | 1.0  | 0.0  | 0.4  | 1.0  |\n",
      "+------+------+--------------------+------+------+------+------+------+------+------+\n"
     ]
    },
    {
     "name": "stderr",
     "output_type": "stream",
     "text": [
      "\n"
     ]
    }
   ],
   "source": [
    "model.fit(df) #条件は省略。標準ではオーバーフィットに特に注意\n",
    "\n",
    "print(model.get_cpds('t'))\n",
    "print(model.get_cpds('a'))\n",
    "print(model.get_cpds('h'))"
   ]
  },
  {
   "cell_type": "code",
   "execution_count": 47,
   "metadata": {},
   "outputs": [
    {
     "name": "stderr",
     "output_type": "stream",
     "text": [
      "Finding Elimination Order: : : 0it [00:00, ?it/s]\n",
      "0it [00:00, ?it/s]\u001b[A"
     ]
    },
    {
     "name": "stdout",
     "output_type": "stream",
     "text": [
      "{'a': 1}\n"
     ]
    },
    {
     "name": "stderr",
     "output_type": "stream",
     "text": [
      "\n"
     ]
    }
   ],
   "source": [
    "from pgmpy.inference import VariableElimination\n",
    "ve = VariableElimination(model)\n",
    "\n",
    "#t=1,h=1とした場合のaは？\n",
    "print(ve.map_query(variables=['a'], evidence={'t':1, 'h':1}))"
   ]
  },
  {
   "cell_type": "code",
   "execution_count": 48,
   "metadata": {},
   "outputs": [
    {
     "name": "stderr",
     "output_type": "stream",
     "text": [
      "\n",
      "0it [00:00, ?it/s]\u001b[A\n",
      "Finding Elimination Order: : : 0it [00:00, ?it/s]\u001b[A\n",
      "\n",
      "0it [00:00, ?it/s]\u001b[A\u001b[A\n",
      "\n",
      "\n",
      "0it [00:00, ?it/s]\u001b[A\u001b[A\n",
      "\n",
      "Finding Elimination Order: : : 0it [00:00, ?it/s]\u001b[A\u001b[A\n",
      "\n",
      "\n",
      "0it [00:00, ?it/s]\u001b[A\u001b[A\u001b[A\n",
      "\n",
      "\n",
      "\n",
      "0it [00:00, ?it/s]\u001b[A\u001b[A\u001b[A\n",
      "\n",
      "\n",
      "Finding Elimination Order: : : 0it [00:00, ?it/s]\u001b[A\u001b[A\u001b[A\n",
      "\n",
      "\n",
      "\n",
      "0it [00:00, ?it/s]\u001b[A\u001b[A\u001b[A\u001b[A"
     ]
    },
    {
     "name": "stdout",
     "output_type": "stream",
     "text": [
      "+------+------+------------+\n",
      "| h    | a    |   phi(h,a) |\n",
      "+======+======+============+\n",
      "| h(0) | a(0) |     0.0750 |\n",
      "+------+------+------------+\n",
      "| h(0) | a(1) |     0.4000 |\n",
      "+------+------+------------+\n",
      "| h(0) | a(2) |     0.4500 |\n",
      "+------+------+------------+\n",
      "| h(1) | a(0) |     0.0750 |\n",
      "+------+------+------------+\n",
      "| h(1) | a(1) |     0.0000 |\n",
      "+------+------+------------+\n",
      "| h(1) | a(2) |     0.0000 |\n",
      "+------+------+------------+\n",
      "+------+------+------------+\n",
      "| a    | h    |   phi(a,h) |\n",
      "+======+======+============+\n",
      "| a(0) | h(0) |     0.0500 |\n",
      "+------+------+------------+\n",
      "| a(0) | h(1) |     0.1000 |\n",
      "+------+------+------------+\n",
      "| a(1) | h(0) |     0.0000 |\n",
      "+------+------+------------+\n",
      "| a(1) | h(1) |     0.4000 |\n",
      "+------+------+------------+\n",
      "| a(2) | h(0) |     0.2700 |\n",
      "+------+------+------------+\n",
      "| a(2) | h(1) |     0.1800 |\n",
      "+------+------+------------+\n",
      "+------+------+------------+\n",
      "| h    | a    |   phi(h,a) |\n",
      "+======+======+============+\n",
      "| h(0) | a(0) |     0.0750 |\n",
      "+------+------+------------+\n",
      "| h(0) | a(1) |     0.0000 |\n",
      "+------+------+------------+\n",
      "| h(0) | a(2) |     0.0000 |\n",
      "+------+------+------------+\n",
      "| h(1) | a(0) |     0.0750 |\n",
      "+------+------+------------+\n",
      "| h(1) | a(1) |     0.4000 |\n",
      "+------+------+------------+\n",
      "| h(1) | a(2) |     0.4500 |\n",
      "+------+------+------------+\n"
     ]
    },
    {
     "name": "stderr",
     "output_type": "stream",
     "text": [
      "\n"
     ]
    }
   ],
   "source": [
    "#t=0,1,2とした場合のa,hは？\n",
    "for i in [0,1,2]:\n",
    "    print(ve.query(variables=['a', 'h'], evidence={'t':i}))"
   ]
  },
  {
   "cell_type": "code",
   "execution_count": null,
   "metadata": {},
   "outputs": [],
   "source": []
  }
 ],
 "metadata": {
  "kernelspec": {
   "display_name": "Python 3",
   "language": "python",
   "name": "python3"
  },
  "language_info": {
   "codemirror_mode": {
    "name": "ipython",
    "version": 3
   },
   "file_extension": ".py",
   "mimetype": "text/x-python",
   "name": "python",
   "nbconvert_exporter": "python",
   "pygments_lexer": "ipython3",
   "version": "3.7.8"
  }
 },
 "nbformat": 4,
 "nbformat_minor": 4
}
